{
 "cells": [
  {
   "cell_type": "markdown",
   "metadata": {},
   "source": [
    "# This script uses the twitter developer premium api to obtain all of Elon Musk's Tweets and write them to an excel file."
   ]
  },
  {
   "cell_type": "code",
   "execution_count": null,
   "metadata": {},
   "outputs": [],
   "source": [
    "from searchtweets import ResultStream, gen_rule_payload, load_credentials, collect_results\n",
    "import pandas as pd\n",
    "import numpy as np\n",
    "from datetime import datetime\n",
    "premium_search_args = load_credentials(\"twitter_keys.yaml\",\n",
    "                                       yaml_key=\"twitter_keys\",\n",
    "                                       env_overwrite=False)"
   ]
  },
  {
   "cell_type": "markdown",
   "metadata": {},
   "source": [
    "Edit the to_date and from_date accordingly. Within the \"gen_rule_payload\" function, provide the desired twitter handle."
   ]
  },
  {
   "cell_type": "code",
   "execution_count": null,
   "metadata": {},
   "outputs": [],
   "source": [
    "all_tweets = []\n",
    "to_date = \"2016-04-26\"\n",
    "from_date =\"2010-01-01\"\n",
    "\n",
    "for n in range(20): \n",
    "    rule = gen_rule_payload(\"from:elonmusk\", from_date = from_date,to_date = to_date,results_per_call=100) \n",
    "    tweets = collect_results(rule,\n",
    "                             max_results=100,\n",
    "                             result_stream_args=premium_search_args)\n",
    "    all_tweets.append(tweets)\n",
    "    final_tweet = tweets[-1]\n",
    "    final_date = datetime.strptime(final_tweet['created_at'], '%a %b %d %H:%M:%S %z %Y')\n",
    "    to_date = str(final_date.year) + '-' + str(final_date.month) + '-' + str(final_date.day)"
   ]
  },
  {
   "cell_type": "code",
   "execution_count": null,
   "metadata": {},
   "outputs": [],
   "source": [
    "tweets = []\n",
    "for n in all_tweets:\n",
    "    for k in n:\n",
    "        tweets.append(k)\n",
    "\n",
    "columns = ['date','retweet','reply','retweet_count','favorite_count','text']\n",
    "df = pd.DataFrame(columns=columns)\n",
    "\n",
    "for tweet in tweets:\n",
    "    result={}\n",
    "    result['date'] = datetime.strptime(tweet['created_at'], '%a %b %d %H:%M:%S %z %Y')\n",
    "    result['retweet'] = ('retweeted_status' in tweet)\n",
    "    result['reply'] = (tweet['in_reply_to_status_id'] is not None)\n",
    "    result['retweet_count'] = tweet['retweet_count']\n",
    "    result['favorite_count'] = tweet['favorite_count']\n",
    "    result['text'] = tweet['text']\n",
    "    df = df.append(result,ignore_index=True)"
   ]
  },
  {
   "cell_type": "code",
   "execution_count": null,
   "metadata": {},
   "outputs": [],
   "source": [
    "df.to_csv(\"Twitter_Data.csv\")"
   ]
  }
 ],
 "metadata": {
  "kernelspec": {
   "display_name": "Python 3",
   "language": "python",
   "name": "python3"
  },
  "language_info": {
   "codemirror_mode": {
    "name": "ipython",
    "version": 3
   },
   "file_extension": ".py",
   "mimetype": "text/x-python",
   "name": "python",
   "nbconvert_exporter": "python",
   "pygments_lexer": "ipython3",
   "version": "3.7.3"
  }
 },
 "nbformat": 4,
 "nbformat_minor": 2
}
